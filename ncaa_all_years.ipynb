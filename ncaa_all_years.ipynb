{
 "cells": [
  {
   "cell_type": "markdown",
   "metadata": {},
   "source": [
    "http://www.sports-reference.com/cbb/postseason/1939-ncaa.html"
   ]
  },
  {
   "cell_type": "code",
   "execution_count": 50,
   "metadata": {
    "collapsed": false
   },
   "outputs": [
    {
     "ename": "NotImplementedError",
     "evalue": "Only the following pseudo-classes are implemented: nth-of-type.",
     "output_type": "error",
     "traceback": [
      "\u001b[0;31m---------------------------------------------------------------------------\u001b[0m",
      "\u001b[0;31mNotImplementedError\u001b[0m                       Traceback (most recent call last)",
      "\u001b[0;32m<ipython-input-50-b46298f848d9>\u001b[0m in \u001b[0;36m<module>\u001b[0;34m()\u001b[0m\n\u001b[1;32m     11\u001b[0m \u001b[0;34m\u001b[0m\u001b[0m\n\u001b[1;32m     12\u001b[0m \u001b[0msoup\u001b[0m \u001b[0;34m=\u001b[0m \u001b[0mgetPageData\u001b[0m\u001b[0;34m(\u001b[0m\u001b[0;36m2016\u001b[0m\u001b[0;34m)\u001b[0m\u001b[0;34m\u001b[0m\u001b[0m\n\u001b[0;32m---> 13\u001b[0;31m \u001b[0meast_region_html\u001b[0m \u001b[0;34m=\u001b[0m \u001b[0msoup\u001b[0m\u001b[0;34m.\u001b[0m\u001b[0mselect\u001b[0m\u001b[0;34m(\u001b[0m\u001b[0;34m\"div#east div#bracket div:nth-child(1)\"\u001b[0m\u001b[0;34m)\u001b[0m\u001b[0;34m\u001b[0m\u001b[0m\n\u001b[0m\u001b[1;32m     14\u001b[0m \u001b[0mlen\u001b[0m\u001b[0;34m(\u001b[0m\u001b[0meast_region_html\u001b[0m\u001b[0;34m)\u001b[0m\u001b[0;34m\u001b[0m\u001b[0m\n\u001b[1;32m     15\u001b[0m \u001b[0;32mfor\u001b[0m \u001b[0mdiv\u001b[0m \u001b[0;32min\u001b[0m \u001b[0meast_region_html\u001b[0m\u001b[0;34m:\u001b[0m\u001b[0;34m\u001b[0m\u001b[0m\n",
      "\u001b[0;32m/Users/dougholubek/anaconda/envs/py3k/lib/python3.6/site-packages/bs4/element.py\u001b[0m in \u001b[0;36mselect\u001b[0;34m(self, selector, _candidate_generator, limit)\u001b[0m\n\u001b[1;32m   1435\u001b[0m                 \u001b[0;32melse\u001b[0m\u001b[0;34m:\u001b[0m\u001b[0;34m\u001b[0m\u001b[0m\n\u001b[1;32m   1436\u001b[0m                     raise NotImplementedError(\n\u001b[0;32m-> 1437\u001b[0;31m                         'Only the following pseudo-classes are implemented: nth-of-type.')\n\u001b[0m\u001b[1;32m   1438\u001b[0m \u001b[0;34m\u001b[0m\u001b[0m\n\u001b[1;32m   1439\u001b[0m             \u001b[0;32melif\u001b[0m \u001b[0mtoken\u001b[0m \u001b[0;34m==\u001b[0m \u001b[0;34m'*'\u001b[0m\u001b[0;34m:\u001b[0m\u001b[0;34m\u001b[0m\u001b[0m\n",
      "\u001b[0;31mNotImplementedError\u001b[0m: Only the following pseudo-classes are implemented: nth-of-type."
     ]
    }
   ],
   "source": [
    "from urllib.request import urlopen\n",
    "from bs4 import BeautifulSoup\n",
    "from bs4 import element\n",
    "from time import sleep\n",
    "import pandas as pd\n",
    "\n",
    "\n",
    "def get_page_data(year):\n",
    "    url = 'http://www.sports-reference.com/cbb/postseason/'+str(year)+'-ncaa.html'\n",
    "    page = urlopen(url)\n",
    "    return BeautifulSoup(page, 'html.parser')\n",
    "\n",
    "def tidy_location(locStr):\n",
    "    if locStr.startswith('at '):\n",
    "        return locStr[len('at '):]\n",
    "\n",
    "def get_bracket():    \n",
    "    years = range(2017, 1985, -1)\n",
    "    #TODO fix years earlier than 1985\n",
    "    bracket = []\n",
    "    for year in years: \n",
    "        soup = get_page_data(year)\n",
    "        region_tags = soup.find_all(\"div\", attrs={\"data-controls\": \"#brackets\"})[0].select('div a')        \n",
    "        for region_tag in region_tags:        \n",
    "            region = str(region_tag.string).lower()\n",
    "            if region is not 'final four':            \n",
    "                search = {'id': region}        \n",
    "                region_div = soup.find('div',**search)\n",
    "                if region_div is not None:\n",
    "                    region_first_round = region_div.div.div                \n",
    "                    for elem in region_first_round.contents:\n",
    "                        if isinstance(elem, element.Tag ):\n",
    "                            seeds_loc = elem.find_all('span')\n",
    "                            #if len(seeds_loc) == 2:\n",
    "                            seed1 = seeds_loc[0].string\n",
    "                            seed2 = seeds_loc[1].string\n",
    "                            currLoc = tidy_location(seeds_loc[2].string)        \n",
    "                            alist = elem.select('div a')\n",
    "                            team1 = alist[0].string\n",
    "                            team2 = alist[2].string        \n",
    "                            bracketRow = [year, region, seed1, team1, currLoc, seed2, team2]\n",
    "                            bracket.append(bracketRow) \n",
    "        sleep(0.5)\n",
    "    return pd.DataFrame(bracket, columns=['Year', 'Region', 'Seed', 'Team Name','Location', 'Oppenent Seed', 'Opponent']) \n",
    "\n",
    "df = get_bracket()\n",
    "df"
   ]
  },
  {
   "cell_type": "code",
   "execution_count": 4,
   "metadata": {
    "collapsed": false
   },
   "outputs": [
    {
     "data": {
      "text/plain": [
       "[]"
      ]
     },
     "execution_count": 4,
     "metadata": {},
     "output_type": "execute_result"
    }
   ],
   "source": []
  },
  {
   "cell_type": "raw",
   "metadata": {},
   "source": []
  }
 ],
 "metadata": {
  "kernelspec": {
   "display_name": "Python 3",
   "language": "python",
   "name": "python3"
  },
  "language_info": {
   "codemirror_mode": {
    "name": "ipython",
    "version": 3
   },
   "file_extension": ".py",
   "mimetype": "text/x-python",
   "name": "python",
   "nbconvert_exporter": "python",
   "pygments_lexer": "ipython3",
   "version": "3.6.0"
  }
 },
 "nbformat": 4,
 "nbformat_minor": 2
}
