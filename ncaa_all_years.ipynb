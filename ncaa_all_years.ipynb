{
 "cells": [
  {
   "cell_type": "markdown",
   "metadata": {},
   "source": [
    "http://www.sports-reference.com/cbb/postseason/1939-ncaa.html"
   ]
  },
  {
   "cell_type": "code",
   "execution_count": null,
   "metadata": {
    "collapsed": false
   },
   "outputs": [],
   "source": [
    "from urllib.request import urlopen\n",
    "from bs4 import BeautifulSoup\n",
    "from bs4 import element\n",
    "from time import sleep\n",
    "import pandas as pd\n",
    "\n",
    "\n",
    "def get_page_data(year):\n",
    "    url = 'http://www.sports-reference.com/cbb/postseason/'+str(year)+'-ncaa.html'\n",
    "    page = urlopen(url)\n",
    "    return BeautifulSoup(page, 'html.parser')\n",
    "\n",
    "def tidy_location(locStr):\n",
    "    if locStr.startswith('at '):\n",
    "        return locStr[len('at '):]\n",
    "\n",
    "def get_bracket():    \n",
    "    years = range(2017, 1984, -1)\n",
    "    #TODO fix years earlier than 1985\n",
    "    bracket = []\n",
    "    for year in years: \n",
    "        soup = get_page_data(year)\n",
    "        region_tags = soup.find_all(\"div\", attrs={\"data-controls\": \"#brackets\"})[0].select('div a')        \n",
    "        for region_tag in region_tags:        \n",
    "            region = str(region_tag.string).lower()\n",
    "            if region is not 'final four':            \n",
    "                search = {'id': region}        \n",
    "                region_div = soup.find('div',**search)\n",
    "                if region_div is not None:\n",
    "                    region_first_round = region_div.div.div                \n",
    "                    for elem in region_first_round.contents:\n",
    "                        if isinstance(elem, element.Tag ):\n",
    "                            seeds_loc = elem.find_all('span')\n",
    "                            #if len(seeds_loc) == 2:\n",
    "                            seed1 = seeds_loc[0].string\n",
    "                            seed2 = seeds_loc[1].string\n",
    "                            currLoc = tidy_location(seeds_loc[2].string)        \n",
    "                            alist = elem.select('div a')\n",
    "                            team1 = alist[0].string\n",
    "                            team2 = alist[2].string        \n",
    "                            bracketRow = [year, region, seed1, team1, currLoc, seed2, team2]\n",
    "                            bracket.append(bracketRow) \n",
    "        sleep(0.5)\n",
    "    return pd.DataFrame(bracket, columns=['Year', 'Region', 'Seed', 'Team Name','Location', 'Oppenent Seed', 'Opponent']) \n",
    "\n",
    "df = get_bracket()\n",
    "df.to_csv('ncaa.csv')"
   ]
  },
  {
   "cell_type": "code",
   "execution_count": 35,
   "metadata": {
    "collapsed": false
   },
   "outputs": [],
   "source": [
    "bracket_2017_and_2016 = df.head(64)\n",
    "sample = bracket_2017_and_2016.head(8)"
   ]
  },
  {
   "cell_type": "code",
   "execution_count": 36,
   "metadata": {
    "collapsed": false
   },
   "outputs": [],
   "source": [
    "sample_group = sample.groupby(['Team Name', 'Opponent'])\n"
   ]
  },
  {
   "cell_type": "code",
   "execution_count": 37,
   "metadata": {
    "collapsed": false
   },
   "outputs": [
    {
     "name": "stdout",
     "output_type": "stream",
     "text": [
      "UF 19 appearances, FSU 11 appearances, Miami 8 appearances\n"
     ]
    }
   ],
   "source": [
    "miami = df['Team Name'].value_counts()['Miami (FL)'] + df['Opponent'].value_counts()['Miami (FL)']\n",
    "uf = df['Team Name'].value_counts()['Florida'] + df['Opponent'].value_counts()['Florida']\n",
    "fsu = df['Team Name'].value_counts()['Florida State'] + df['Opponent'].value_counts()['Florida State']\n",
    "\n",
    "print(\"UF {} appearances, FSU {} appearances, Miami {} appearances\".format(uf, fsu, miami))"
   ]
  },
  {
   "cell_type": "code",
   "execution_count": null,
   "metadata": {
    "collapsed": false
   },
   "outputs": [],
   "source": []
  },
  {
   "cell_type": "code",
   "execution_count": null,
   "metadata": {
    "collapsed": true
   },
   "outputs": [],
   "source": []
  }
 ],
 "metadata": {
  "kernelspec": {
   "display_name": "Python 3",
   "language": "python",
   "name": "python3"
  },
  "language_info": {
   "codemirror_mode": {
    "name": "ipython",
    "version": 3
   },
   "file_extension": ".py",
   "mimetype": "text/x-python",
   "name": "python",
   "nbconvert_exporter": "python",
   "pygments_lexer": "ipython3",
   "version": "3.6.0"
  }
 },
 "nbformat": 4,
 "nbformat_minor": 2
}
