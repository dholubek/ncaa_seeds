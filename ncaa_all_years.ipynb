{
 "cells": [
  {
   "cell_type": "markdown",
   "metadata": {},
   "source": [
    "http://www.sports-reference.com/cbb/postseason/1939-ncaa.html"
   ]
  },
  {
   "cell_type": "code",
   "execution_count": 2,
   "metadata": {
    "collapsed": true
   },
   "outputs": [],
   "source": [
    "from urllib.request import urlopen\n",
    "from bs4 import BeautifulSoup\n",
    "from bs4 import element\n",
    "from time import sleep\n",
    "import pandas as pd\n",
    "\n",
    "\n",
    "def get_page_data(year):\n",
    "    url = 'http://www.sports-reference.com/cbb/postseason/'+str(year)+'-ncaa.html'\n",
    "    page = urlopen(url)\n",
    "    return BeautifulSoup(page, 'html.parser')\n",
    "\n",
    "def tidy_location(locStr):\n",
    "    if locStr.startswith('at '):\n",
    "        return locStr[len('at '):]"
   ]
  },
  {
   "cell_type": "code",
   "execution_count": 79,
   "metadata": {
    "collapsed": false,
    "scrolled": false
   },
   "outputs": [],
   "source": [
    "def get_bracket():\n",
    "    # this works for 84 first round bye and 85 and later 64+ team bracket ignoring play-in games\n",
    "    years = range(2016, 1938, -1)\n",
    "    #TODO fix years earlier than 1985\n",
    "    bracket = []\n",
    "    for year in years: \n",
    "        soup = get_page_data(year)\n",
    "        region_tags = soup.find_all(\"div\", attrs={\"data-controls\": \"#brackets\"})[0].select('div a')           \n",
    "        #print(year)\n",
    "        for region_tag in region_tags:        \n",
    "            region = str(region_tag.string).lower()                           \n",
    "            if region == 'final four':\n",
    "                region_div = soup.find('div', {'id':'national'})\n",
    "            else:\n",
    "                search = {'id': region} \n",
    "                region_div = soup.find('div',**search)            \n",
    "            if region_div is not None:\n",
    "                bracket_rounds = region_div.div\n",
    "                div_rounds = bracket_rounds.find_all('div', {'class':'round'})                \n",
    "                bracket_round = 1\n",
    "                for div_round in div_rounds:\n",
    "                    #print(\"round, \", bracket_round)\n",
    "                    if isinstance(div_round, element.Tag ):\n",
    "                        #print(len(div_round))\n",
    "                        for gm in div_round:\n",
    "                            if isinstance(gm, element.Tag ):\n",
    "                                #print(gm)\n",
    "                                #print(\"len contents: \", len(gm.contents))\n",
    "                                #print()\n",
    "                                if (len(gm.contents) >= 9):\n",
    "                                    #print(gm)\n",
    "                                    #print()\n",
    "                                    seeds_loc = gm.find_all('span')\n",
    "                                    if len(seeds_loc) > 2:                                        \n",
    "                                        winner = gm.find('div', {'class':'winner'})\n",
    "                                        #if winner is None:\n",
    "                                        #    print(winner)\n",
    "                                        #else:\n",
    "                                        winner_seed = winner.find('span').string                                        \n",
    "                                        seed1 = seeds_loc[0].string                                        \n",
    "                                        seed2 = seeds_loc[1].string                                        \n",
    "                                        currLoc = tidy_location(seeds_loc[2].string)        \n",
    "                                        alist = gm.select('div a')                                        \n",
    "                                        team1 = alist[0].string\n",
    "                                        #if len(alist) > 2:\n",
    "                                        team2 = alist[2].string\n",
    "                                        #else:\n",
    "                                        #    print(alist)\n",
    "                                        bracketRow = [year, region, bracket_round, seed1, team1, currLoc, seed2, team2, winner_seed]\n",
    "                                        #print(bracketRow)\n",
    "                                        bracket.append(bracketRow)\n",
    "                        bracket_round += 1\n",
    "        sleep(0.5)\n",
    "    return pd.DataFrame(bracket, columns=['Year', 'Region', 'Round', 'Seed', 'Team Name', 'Location', 'Oppenent Seed', 'Opponent', 'Winning Seed']) \n",
    "\n",
    "    \n",
    "df = get_bracket()\n",
    "#df\n",
    "df.to_csv('ncaa.csv')"
   ]
  },
  {
   "cell_type": "code",
   "execution_count": 80,
   "metadata": {
    "collapsed": false
   },
   "outputs": [],
   "source": [
    "bracket_2017_and_2016 = df.head(64)\n",
    "sample = bracket_2017_and_2016.head(8)"
   ]
  },
  {
   "cell_type": "code",
   "execution_count": 81,
   "metadata": {
    "collapsed": false
   },
   "outputs": [],
   "source": [
    "sample_group = sample.groupby(['Team Name', 'Opponent'])\n"
   ]
  },
  {
   "cell_type": "code",
   "execution_count": 82,
   "metadata": {
    "collapsed": false
   },
   "outputs": [
    {
     "name": "stdout",
     "output_type": "stream",
     "text": [
      "UF 58 appearances, FSU 29 appearances, Miami 16 appearances\n"
     ]
    }
   ],
   "source": [
    "miami = df['Team Name'].value_counts()['Miami (FL)'] + df['Opponent'].value_counts()['Miami (FL)']\n",
    "uf = df['Team Name'].value_counts()['Florida'] + df['Opponent'].value_counts()['Florida']\n",
    "fsu = df['Team Name'].value_counts()['Florida State'] + df['Opponent'].value_counts()['Florida State']\n",
    "#TODO these counts are probably wrong bc they aren't explicitly filtering by the first round\n",
    "print(\"UF {} appearances, FSU {} appearances, Miami {} appearances\".format(uf, fsu, miami))"
   ]
  },
  {
   "cell_type": "code",
   "execution_count": null,
   "metadata": {
    "collapsed": false
   },
   "outputs": [],
   "source": []
  },
  {
   "cell_type": "code",
   "execution_count": null,
   "metadata": {
    "collapsed": true
   },
   "outputs": [],
   "source": []
  }
 ],
 "metadata": {
  "kernelspec": {
   "display_name": "Python 3",
   "language": "python",
   "name": "python3"
  }
 },
 "nbformat": 4,
 "nbformat_minor": 2
}
