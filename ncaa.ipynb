{
 "cells": [
  {
   "cell_type": "code",
   "execution_count": 6,
   "metadata": {
    "collapsed": false
   },
   "outputs": [],
   "source": [
    "from urllib.request import urlopen\n",
    "from bs4 import BeautifulSoup\n",
    "from time import sleep\n",
    "import pandas as pd\n",
    "import re\n",
    "\n",
    "\n",
    "seed_regex = \"\\([0-9]+\\)\"\n",
    "team_name_regex = \"[A-Za-z-& ]+\"\n",
    "team_score_regex = \"[0-9]*\"\n",
    "\n",
    "# download page data\n",
    "def getPageData(year):\n",
    "    url = 'http://www.databasesports.com/ncaab/tourney.htm?yr='+str(year)\n",
    "    page2010 = urlopen(url)\n",
    "    return BeautifulSoup(page2010, 'html.parser')\n",
    "\n",
    "def genBrackData():\n",
    "    bracket = []\n",
    "    #1985 is the first year of 64 teams\n",
    "    years = range(2010, 1938, -1)\n",
    "    for year in years: \n",
    "        soup = getPageData(year)\n",
    "        all_TRs = soup.find_all(\"tr\")\n",
    "        team_count = 0\n",
    "        for iterTR in all_TRs:\n",
    "            # grab class attr        \n",
    "            if 'class' in iterTR.attrs:\n",
    "                row_class = iterTR[\"class\"]\n",
    "                if 'region' in row_class:\n",
    "                    # get region name\n",
    "                    currRegion = iterTR.td.get_text()\n",
    "                if 'tourney' in row_class:            \n",
    "                    seed_team_score = re.findall(seed_regex + team_name_regex + team_score_regex, iterTR.td.get_text())            \n",
    "                    if len(seed_team_score) > 0:\n",
    "                        seed1_re = re.findall(seed_regex, seed_team_score[0])\n",
    "                        team1_re = re.findall(team_name_regex, seed_team_score[0])\n",
    "                        if len(seed1_re) > 0:                        \n",
    "                            seed1 = seed1_re[0].replace(\"(\",\"\").replace(\")\",\"\")\n",
    "                        if len(team1_re) > 0:\n",
    "                            team1 = team1_re[0].strip()\n",
    "                        seed2_re = re.findall(seed_regex, seed_team_score[1])\n",
    "                        team2_re = re.findall(team_name_regex, seed_team_score[1])\n",
    "                        if len(seed2_re) > 0:\n",
    "                            seed2 = seed2_re[0].replace(\"(\",\"\").replace(\")\",\"\")\n",
    "                        if len(team2_re) > 0:    \n",
    "                            team2 = team2_re[0].strip()            \n",
    "                    bracketRow = [year, currRegion, seed1, team1, currLoc, seed2, team2]\n",
    "                    bracket.append(bracketRow)           \n",
    "                    team_count += 1\n",
    "                    if team_count >= 32:\n",
    "                        break\n",
    "            else:\n",
    "                locs = iterTR.select(\"td.location\")\n",
    "                if locs:\n",
    "                    currLoc = locs[0].a.get_text()\n",
    "        sleep(0.5)\n",
    "    return pd.DataFrame(bracket, columns=['Year', 'Region', 'Seed', 'Team Name','Location', 'Oppenent Seed', 'Opponent'])    \n",
    " \n",
    "df = genBrackData()\n"
   ]
  },
  {
   "cell_type": "code",
   "execution_count": 7,
   "metadata": {
    "collapsed": false
   },
   "outputs": [],
   "source": [
    "df.to_csv('ncaa.csv')"
   ]
  },
  {
   "cell_type": "code",
   "execution_count": null,
   "metadata": {
    "collapsed": true
   },
   "outputs": [],
   "source": []
  }
 ],
 "metadata": {
  "kernelspec": {
   "display_name": "Python 3",
   "language": "python",
   "name": "python3"
  },
  "language_info": {
   "codemirror_mode": {
    "name": "ipython",
    "version": 3
   },
   "file_extension": ".py",
   "mimetype": "text/x-python",
   "name": "python",
   "nbconvert_exporter": "python",
   "pygments_lexer": "ipython3",
   "version": "3.6.0"
  }
 },
 "nbformat": 4,
 "nbformat_minor": 2
}
