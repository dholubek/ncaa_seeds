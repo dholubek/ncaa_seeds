{
 "cells": [
  {
   "cell_type": "code",
   "execution_count": 21,
   "metadata": {
    "collapsed": false
   },
   "outputs": [
    {
     "name": "stdout",
     "output_type": "stream",
     "text": [
      "['(1)']\n",
      "(1) Kansas 90(16) Lehigh 74\n",
      "['(8)']\n",
      "(8) Nevada-Las Vegas 66(9) Northern Iowa 69\n",
      "['(5)']\n",
      "(5) Michigan State 70(12) New Mexico State 67\n",
      "['(4)']\n",
      "(4) Maryland 89(13) Houston 77\n",
      "['(3)']\n",
      "(3) Georgetown 83(14) Ohio 97\n",
      "['(6)']\n",
      "(6) Tennessee 62(11) San Diego State 59\n",
      "['(7)']\n",
      "(7) Oklahoma State 59(10) Georgia Tech 64\n",
      "['(2)']\n",
      "(2) Ohio State 68(15) California-Santa Barbara 51\n",
      "['(1)']\n",
      "(1) Syracuse 79(16) Vermont 56\n",
      "['(8)']\n",
      "(8) Gonzaga 67(9) Florida State 60\n",
      "['(5)']\n",
      "(5) Butler 77(12) Texas-El Paso 59\n",
      "['(4)']\n",
      "(4) Vanderbilt 65(13) Murray State 66\n",
      "['(3)']\n",
      "(3) Pittsburgh 89(14) Oakland 66\n",
      "['(6)']\n",
      "(6) Xavier, Ohio 65(11) Minnesota 54\n",
      "['(7)']\n",
      "(7) Brigham Young 99(10) Florida 92\n",
      "['(2)']\n",
      "(2) Kansas State 82(15) North Texas 62\n",
      "['(1)']\n",
      "(1) Kentucky 100(16) East Tennessee State 71\n",
      "['(8)']\n",
      "(8) Texas 80(9) Wake Forest 81\n",
      "['(5)']\n",
      "(5) Temple 65(12) Cornell 78\n",
      "['(4)']\n",
      "(4) Wisconsin 53(13) Wofford 49\n",
      "['(3)']\n",
      "(3) New Mexico 62(14) Montana 57\n",
      "['(6)']\n",
      "(6) Marquette 78(11) Washington 80\n",
      "['(7)']\n",
      "(7) Clemson 78(10) Missouri 86\n",
      "['(2)']\n",
      "(2) West Virginia 77(15) Morgan State 50\n",
      "['(1)']\n",
      "(1) Duke 73(16) Arkansas-Pine Bluff 44\n",
      "['(8)']\n",
      "(8) California 77(9) Louisville 62\n",
      "['(5)']\n",
      "(5) Texas A&M; 69(12) Utah State 53\n",
      "['(4)']\n",
      "(4) Purdue 72(13) Siena 64\n",
      "['(3)']\n",
      "(3) Baylor 68(14) Sam Houston State 59\n",
      "['(6)']\n",
      "(6) Notre Dame 50(11) Old Dominion 51\n",
      "['(7)']\n",
      "(7) Richmond 71(10) St. Mary's, California 80\n",
      "['(2)']\n",
      "(2) Villanova 73(15) Robert Morris 70\n",
      "['(5)']\n",
      "(5) Michigan State 50(5) Butler 52\n",
      "['(2)']\n",
      "(2) West Virginia 57(1) Duke 78\n"
     ]
    },
    {
     "ename": "AttributeError",
     "evalue": "'NoneType' object has no attribute 'group'",
     "output_type": "error",
     "traceback": [
      "\u001b[0;31m---------------------------------------------------------------------------\u001b[0m",
      "\u001b[0;31mAttributeError\u001b[0m                            Traceback (most recent call last)",
      "\u001b[0;32m<ipython-input-21-c89a59321e5f>\u001b[0m in \u001b[0;36m<module>\u001b[0;34m()\u001b[0m\n\u001b[1;32m     22\u001b[0m             \u001b[0mseed_team_regex\u001b[0m \u001b[0;34m=\u001b[0m \u001b[0mre\u001b[0m\u001b[0;34m.\u001b[0m\u001b[0mcompile\u001b[0m\u001b[0;34m(\u001b[0m\u001b[0;34m\"\\(\\d\\)\"\u001b[0m\u001b[0;34m)\u001b[0m\u001b[0;34m\u001b[0m\u001b[0m\n\u001b[1;32m     23\u001b[0m             \u001b[0mmatch\u001b[0m \u001b[0;34m=\u001b[0m \u001b[0mseed_team_regex\u001b[0m\u001b[0;34m.\u001b[0m\u001b[0mmatch\u001b[0m\u001b[0;34m(\u001b[0m\u001b[0miterTR\u001b[0m\u001b[0;34m.\u001b[0m\u001b[0mtd\u001b[0m\u001b[0;34m.\u001b[0m\u001b[0mget_text\u001b[0m\u001b[0;34m(\u001b[0m\u001b[0;34m)\u001b[0m\u001b[0;34m)\u001b[0m\u001b[0;34m\u001b[0m\u001b[0m\n\u001b[0;32m---> 24\u001b[0;31m             \u001b[0mprint\u001b[0m\u001b[0;34m(\u001b[0m\u001b[0mmatch\u001b[0m\u001b[0;34m.\u001b[0m\u001b[0mgroup\u001b[0m\u001b[0;34m(\u001b[0m\u001b[0;34m)\u001b[0m\u001b[0;34m.\u001b[0m\u001b[0msplit\u001b[0m\u001b[0;34m(\u001b[0m\u001b[0;34m'\\('\u001b[0m\u001b[0;34m)\u001b[0m\u001b[0;34m)\u001b[0m\u001b[0;34m\u001b[0m\u001b[0m\n\u001b[0m\u001b[1;32m     25\u001b[0m             \u001b[0mprint\u001b[0m\u001b[0;34m(\u001b[0m\u001b[0miterTR\u001b[0m\u001b[0;34m.\u001b[0m\u001b[0mtd\u001b[0m\u001b[0;34m.\u001b[0m\u001b[0mget_text\u001b[0m\u001b[0;34m(\u001b[0m\u001b[0;34m)\u001b[0m\u001b[0;34m)\u001b[0m\u001b[0;34m\u001b[0m\u001b[0m\n\u001b[1;32m     26\u001b[0m     \u001b[0;32melse\u001b[0m\u001b[0;34m:\u001b[0m\u001b[0;34m\u001b[0m\u001b[0m\n",
      "\u001b[0;31mAttributeError\u001b[0m: 'NoneType' object has no attribute 'group'"
     ]
    }
   ],
   "source": [
    "from urllib.request import urlopen\n",
    "from bs4 import BeautifulSoup\n",
    "import pandas as pd\n",
    "import re\n",
    "\n",
    "# download page data\n",
    "url = 'http://www.databasesports.com/ncaab/tourney.htm?yr=2010'\n",
    "page2010 = urlopen(url)\n",
    "soup = BeautifulSoup(page2010, 'html.parser')\n",
    "\n",
    "# iterate over rows\n",
    "all_TRs = soup.find_all(\"tr\")\n",
    "for iterTR in all_TRs:\n",
    "    # grab class attr\n",
    "    if 'class' in iterTR.attrs:\n",
    "        row_class = iterTR[\"class\"]\n",
    "        #if 'region' in row_class:\n",
    "            # get region name\n",
    "            #print(iterTR.td.get_text())\n",
    "        if 'tourney' in row_class:\n",
    "            #TODO split this regex\n",
    "            seed_team_regex = re.compile(\"\\(\\d\\)\")\n",
    "            match = seed_team_regex.match(iterTR.td.get_text())\n",
    "            print(match.group().split('\\('))\n",
    "            print(iterTR.td.get_text())\n",
    "    else:\n",
    "        locs = iterTR.select(\"td.location\")\n",
    "        #if locs:\n",
    "            #print(locs[0].a.get_text())"
   ]
  },
  {
   "cell_type": "code",
   "execution_count": null,
   "metadata": {
    "collapsed": true
   },
   "outputs": [],
   "source": []
  }
 ],
 "metadata": {
  "kernelspec": {
   "display_name": "Python 3",
   "language": "python",
   "name": "python3"
  },
  "language_info": {
   "codemirror_mode": {
    "name": "ipython",
    "version": 3
   },
   "file_extension": ".py",
   "mimetype": "text/x-python",
   "name": "python",
   "nbconvert_exporter": "python",
   "pygments_lexer": "ipython3",
   "version": "3.6.0"
  }
 },
 "nbformat": 4,
 "nbformat_minor": 2
}
